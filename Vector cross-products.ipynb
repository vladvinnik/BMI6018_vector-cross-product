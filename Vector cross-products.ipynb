{
 "cells": [
  {
   "cell_type": "code",
   "execution_count": 4,
   "id": "a810a177",
   "metadata": {},
   "outputs": [],
   "source": [
    "import numpy as np"
   ]
  },
  {
   "cell_type": "code",
   "execution_count": 5,
   "id": "7daa7303",
   "metadata": {},
   "outputs": [],
   "source": [
    "#vectors \n",
    "v1 = [1, 2, 3]\n",
    "v2 = [4, 5, 6] "
   ]
  },
  {
   "cell_type": "code",
   "execution_count": 6,
   "id": "1df9e48b",
   "metadata": {},
   "outputs": [
    {
     "name": "stdout",
     "output_type": "stream",
     "text": [
      "cross product of v1 x v2 is [-3  6 -3]\n",
      "cross product of v2 x v1 is [ 3 -6  3]\n"
     ]
    }
   ],
   "source": [
    "#taking the cross products\n",
    "print(\"cross product of v1 x v2 is\", np.cross(v1, v2))\n",
    "print(\"cross product of v2 x v1 is\", np.cross(v2, v1))"
   ]
  },
  {
   "cell_type": "code",
   "execution_count": null,
   "id": "229a3f6d",
   "metadata": {},
   "outputs": [],
   "source": []
  }
 ],
 "metadata": {
  "kernelspec": {
   "display_name": "Python 3 (ipykernel)",
   "language": "python",
   "name": "python3"
  },
  "language_info": {
   "codemirror_mode": {
    "name": "ipython",
    "version": 3
   },
   "file_extension": ".py",
   "mimetype": "text/x-python",
   "name": "python",
   "nbconvert_exporter": "python",
   "pygments_lexer": "ipython3",
   "version": "3.9.12"
  }
 },
 "nbformat": 4,
 "nbformat_minor": 5
}
